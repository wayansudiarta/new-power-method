{
 "cells": [
  {
   "cell_type": "markdown",
   "metadata": {},
   "source": [
    "# Computation of eigen\n",
    "\n",
    "I Wayan Sudiarta, Ph.D.\n",
    "\n",
    "6 February 2022\n",
    "\n",
    "Reference:\n",
    "1. https://numpy.org/doc/stable/reference/generated/numpy.matrix.html\n"
   ]
  },
  {
   "cell_type": "code",
   "execution_count": 1,
   "metadata": {},
   "outputs": [],
   "source": [
    "%matplotlib inline\n",
    "import matplotlib.pyplot as plt\n",
    "import numpy as np\n",
    "from numpy import linalg as la"
   ]
  },
  {
   "cell_type": "code",
   "execution_count": 31,
   "metadata": {},
   "outputs": [
    {
     "name": "stdout",
     "output_type": "stream",
     "text": [
      "[[2 0 0]\n",
      " [0 2 1]\n",
      " [0 1 2]]\n"
     ]
    }
   ],
   "source": [
    "# matrix H\n",
    "H = np.matrix([[2, 0, 0],[0, 2, 1], [0, 1, 2]])\n",
    "print(H)"
   ]
  },
  {
   "cell_type": "code",
   "execution_count": 52,
   "metadata": {},
   "outputs": [],
   "source": [
    "I = np.eye(3)"
   ]
  },
  {
   "cell_type": "code",
   "execution_count": 101,
   "metadata": {},
   "outputs": [
    {
     "name": "stdout",
     "output_type": "stream",
     "text": [
      "[[0.7], [0.8], [0.4]]\n"
     ]
    }
   ],
   "source": [
    "# random psi\n",
    "# phi = np.random.rand(3,1)\n",
    "phi0 = [[0.7], [0.8], [0.4]]\n",
    "print(phi0)\n",
    "phi = phi0/la.norm(phi0)\n",
    "en0 = np.transpose(phi)@H@phi\n",
    "\n",
    "# E = 1.6\n",
    "E = 1.6\n",
    "n  = 100\n",
    "G = I - (1.0/(E*n))*H\n",
    "G5 = G@G@G@G@G\n",
    "G10 = G5@G5\n",
    "G50 = G10@G10@G10@G10@G10\n",
    "G100 = G50@G50\n",
    "HG = H@G100\n",
    "phi = phi0\n",
    "res1 = [[0, en0]]\n",
    "for i in range(50):\n",
    "    psi = HG@phi\n",
    "    phi = psi/la.norm(psi)\n",
    "    en = np.transpose(phi)@H@phi\n",
    "    res1.append([i, en.item()])\n",
    "\n",
    "# E = 1.8\n",
    "E = 1.8\n",
    "n  = 100\n",
    "G = I - (1.0/(E*n))*H\n",
    "G5 = G@G@G@G@G\n",
    "G10 = G5@G5\n",
    "G50 = G10@G10@G10@G10@G10\n",
    "G100 = G50@G50\n",
    "HG = H@G100\n",
    "phi = phi0\n",
    "res2 = [[0, en0]]\n",
    "for i in range(50):\n",
    "    psi = HG@phi\n",
    "    phi = psi/la.norm(psi)\n",
    "    en = np.transpose(phi)@H@phi\n",
    "    res2.append([i, en.item()])\n",
    "    \n",
    "# E = 2\n",
    "E = 2\n",
    "n  = 100\n",
    "G = I - (1.0/(E*n))*H\n",
    "G5 = G@G@G@G@G\n",
    "G10 = G5@G5\n",
    "G50 = G10@G10@G10@G10@G10\n",
    "G100 = G50@G50\n",
    "HG = H@G100\n",
    "phi = phi0\n",
    "res3 = [[0, en0]]\n",
    "for i in range(50):\n",
    "    psi = HG@phi\n",
    "    phi = psi/la.norm(psi)\n",
    "    en = np.transpose(phi)@H@phi\n",
    "    res3.append([i, en.item()])\n",
    "\n",
    "# E = 2.2\n",
    "E = 2.2\n",
    "n  = 100\n",
    "G = I - (1.0/(E*n))*H\n",
    "G5 = G@G@G@G@G\n",
    "G10 = G5@G5\n",
    "G50 = G10@G10@G10@G10@G10\n",
    "G100 = G50@G50\n",
    "HG = H@G100\n",
    "phi = phi0\n",
    "res4 = [[0, en0]]\n",
    "for i in range(50):\n",
    "    psi = HG@phi\n",
    "    phi = psi/la.norm(psi)\n",
    "    en = np.transpose(phi)@H@phi\n",
    "    res4.append([i, en.item()])\n",
    "    \n",
    "np.savetxt('data_samepsi1.csv', res1, delimiter=',')\n",
    "np.savetxt('data_samepsi2.csv', res2, delimiter=',')\n",
    "np.savetxt('data_samepsi3.csv', res3, delimiter=',')\n",
    "np.savetxt('data_samepsi4.csv', res4, delimiter=',')"
   ]
  },
  {
   "cell_type": "code",
   "execution_count": 102,
   "metadata": {
    "scrolled": true
   },
   "outputs": [
    {
     "data": {
      "image/png": "[encoded data removed]",
      "text/plain": [
       "<Figure size 432x288 with 1 Axes>"
      ]
     },
     "metadata": {
      "needs_background": "light"
     },
     "output_type": "display_data"
    }
   ],
   "source": [
    "data1 = np.array(res1)\n",
    "x = data1[:,0]\n",
    "y1 = data1[:,1]\n",
    "data2 = np.array(res2)\n",
    "y2 = data2[:,1]\n",
    "data3 = np.array(res3)\n",
    "y3 = data3[:,1]\n",
    "data4 = np.array(res4)\n",
    "y4 = data4[:,1]\n",
    "\n",
    "plt.plot(x,y1, '--r')\n",
    "plt.plot(x,y2, '-.g')\n",
    "plt.plot(x,y3, '-k')\n",
    "plt.plot(x,y4, '-b')\n",
    "#plt.plot([0,1000],[3,3], '-k')\n",
    "#plt.plot([0,1000],[2,2], '-k')\n",
    "#plt.plot([0,1000],[1,1], '-k')\n",
    "plt.xlim(0,30)\n",
    "plt.ylim(1.5,3)\n",
    "plt.ylabel('E')\n",
    "plt.xlabel('kth iteration')\n",
    "plt.show()"
   ]
  },
  {
   "cell_type": "code",
   "execution_count": 125,
   "metadata": {},
   "outputs": [
    {
     "name": "stdout",
     "output_type": "stream",
     "text": [
      "[[0.37], [0.66], [0.49]]\n",
      "[[0.6], [0.24], [0.49]]\n",
      "[[0.71], [0.45], [0.05]]\n",
      "[[0.53], [0.55], [0.11]]\n"
     ]
    }
   ],
   "source": [
    "xi1 = [[0.37], [0.66], [0.49]]\n",
    "xi2 = [[0.60], [0.24], [0.49]]\n",
    "xi3 = [[0.71], [0.45], [0.05]]\n",
    "xi4 = [[0.53], [0.55 ], [0.11]]\n",
    "\n",
    "# E = 1.6\n",
    "E = 1.6\n",
    "n  = 100\n",
    "G = I - (1.0/(E*n))*H\n",
    "G5 = G@G@G@G@G\n",
    "G10 = G5@G5\n",
    "G50 = G10@G10@G10@G10@G10\n",
    "G100 = G50@G50\n",
    "HG = H@G100\n",
    "#\n",
    "phi = xi1\n",
    "print(phi)\n",
    "res1 = []\n",
    "for i in range(50):\n",
    "    psi = HG@phi\n",
    "    phi = psi/la.norm(psi)\n",
    "    en = np.transpose(phi)@H@phi\n",
    "    res1.append([i, en.item()])\n",
    "\n",
    "phi = xi2\n",
    "print(phi)\n",
    "res2 = []\n",
    "for i in range(50):\n",
    "    psi = HG@phi\n",
    "    phi = psi/la.norm(psi)\n",
    "    en = np.transpose(phi)@H@phi\n",
    "    res2.append([i, en.item()])\n",
    "    \n",
    "phi = xi3\n",
    "print(phi)\n",
    "res3 = []\n",
    "for i in range(50):\n",
    "    psi = HG@phi\n",
    "    phi = psi/la.norm(psi)\n",
    "    en = np.transpose(phi)@H@phi\n",
    "    res3.append([i, en.item()])\n",
    "\n",
    "phi = xi4\n",
    "print(phi)\n",
    "res4 = []\n",
    "for i in range(50):\n",
    "    psi = HG@phi\n",
    "    phi = psi/la.norm(psi)\n",
    "    en = np.transpose(phi)@H@phi\n",
    "    res4.append([i, en.item()])\n",
    "    \n",
    "np.savetxt('data_randompsi1.csv', res1, delimiter=',')\n",
    "np.savetxt('data_randompsi2.csv', res2, delimiter=',')\n",
    "np.savetxt('data_randompsi3.csv', res3, delimiter=',')\n",
    "np.savetxt('data_randompsi4.csv', res4, delimiter=',')"
   ]
  },
  {
   "cell_type": "code",
   "execution_count": 126,
   "metadata": {},
   "outputs": [
    {
     "data": {
      "image/png": "[encoded data removed]",
      "text/plain": [
       "<Figure size 432x288 with 1 Axes>"
      ]
     },
     "metadata": {
      "needs_background": "light"
     },
     "output_type": "display_data"
    }
   ],
   "source": [
    "data1 = np.array(res1)\n",
    "x = data1[:,0]\n",
    "y1 = data1[:,1]\n",
    "data2 = np.array(res2)\n",
    "y2 = data2[:,1]\n",
    "data3 = np.array(res3)\n",
    "y3 = data3[:,1]\n",
    "data4 = np.array(res4)\n",
    "y4 = data4[:,1]\n",
    "\n",
    "plt.plot(x,y1, '--r')\n",
    "plt.plot(x,y2, '-.g')\n",
    "plt.plot(x,y3, '-k')\n",
    "plt.plot(x,y4, '-b')\n",
    "#plt.plot([0,1000],[3,3], '-k')\n",
    "#plt.plot([0,1000],[2,2], '-k')\n",
    "#plt.plot([0,1000],[1,1], '-k')\n",
    "plt.xlim(0,30)\n",
    "plt.ylim(1.5,3)\n",
    "plt.ylabel('E')\n",
    "plt.xlabel('kth iteration')\n",
    "plt.show()"
   ]
  },
  {
   "cell_type": "code",
   "execution_count": 131,
   "metadata": {},
   "outputs": [
    {
     "name": "stdout",
     "output_type": "stream",
     "text": [
      "[[0.7], [0.8], [0.4]]\n"
     ]
    }
   ],
   "source": [
    "# different M\n",
    "# phi = np.random.rand(3,1)\n",
    "phi0 = [[0.7], [0.8], [0.4]]\n",
    "print(phi0)\n",
    "phi = phi0/la.norm(phi0)\n",
    "en0 = np.transpose(phi)@H@phi\n",
    "\n",
    "# E = 1.6\n",
    "E = 1.6\n",
    "n  = 10\n",
    "G = I - (1.0/(E*n))*H\n",
    "G5 = G@G@G@G@G\n",
    "G10 = G5@G5\n",
    "HG = H@G10\n",
    "phi = phi0\n",
    "res1 = [[0, en0]]\n",
    "for i in range(50):\n",
    "    psi = HG@phi\n",
    "    phi = psi/la.norm(psi)\n",
    "    en = np.transpose(phi)@H@phi\n",
    "    res1.append([i, en.item()])\n",
    "\n",
    "n  = 20\n",
    "G = I - (1.0/(E*n))*H\n",
    "G5 = G@G@G@G@G\n",
    "G10 = G5@G5\n",
    "G20 = G10@G10\n",
    "HG = H@G20\n",
    "phi = phi0\n",
    "res2 = [[0, en0]]\n",
    "for i in range(50):\n",
    "    psi = HG@phi\n",
    "    phi = psi/la.norm(psi)\n",
    "    en = np.transpose(phi)@H@phi\n",
    "    res2.append([i, en.item()])\n",
    "    \n",
    "# E = 2\n",
    "n  = 40\n",
    "G = I - (1.0/(E*n))*H\n",
    "G5 = G@G@G@G@G\n",
    "G10 = G5@G5\n",
    "G40 = G10@G10@G10@G10\n",
    "HG = H@G40\n",
    "phi = phi0\n",
    "res3 = [[0, en0]]\n",
    "for i in range(50):\n",
    "    psi = HG@phi\n",
    "    phi = psi/la.norm(psi)\n",
    "    en = np.transpose(phi)@H@phi\n",
    "    res3.append([i, en.item()])\n",
    "\n",
    "# E = 2.2\n",
    "n  = 60\n",
    "G = I - (1.0/(E*n))*H\n",
    "G5 = G@G@G@G@G\n",
    "G10 = G5@G5\n",
    "G60 = G10@G10@G10@G10@G10@G10\n",
    "HG = H@G60\n",
    "phi = phi0\n",
    "res4 = [[0, en0]]\n",
    "for i in range(50):\n",
    "    psi = HG@phi\n",
    "    phi = psi/la.norm(psi)\n",
    "    en = np.transpose(phi)@H@phi\n",
    "    res4.append([i, en.item()])\n",
    "    \n",
    "np.savetxt('data_diffpsi1.csv', res1, delimiter=',')\n",
    "np.savetxt('data_diffpsi2.csv', res2, delimiter=',')\n",
    "np.savetxt('data_diffpsi3.csv', res3, delimiter=',')\n",
    "np.savetxt('data_diffpsi4.csv', res4, delimiter=',')"
   ]
  },
  {
   "cell_type": "code",
   "execution_count": 133,
   "metadata": {},
   "outputs": [
    {
     "data": {
      "image/png": "[encoded data removed]",
      "text/plain": [
       "<Figure size 432x288 with 1 Axes>"
      ]
     },
     "metadata": {
      "needs_background": "light"
     },
     "output_type": "display_data"
    }
   ],
   "source": [
    "data1 = np.array(res1)\n",
    "x = data1[:,0]\n",
    "y1 = data1[:,1]\n",
    "data2 = np.array(res2)\n",
    "y2 = data2[:,1]\n",
    "data3 = np.array(res3)\n",
    "y3 = data3[:,1]\n",
    "data4 = np.array(res4)\n",
    "y4 = data4[:,1]\n",
    "\n",
    "plt.plot(x,y1, '--r')\n",
    "plt.plot(x,y2, '-.g')\n",
    "plt.plot(x,y3, '-k')\n",
    "plt.plot(x,y4, '-b')\n",
    "#plt.plot([0,1000],[3,3], '-k')\n",
    "#plt.plot([0,1000],[2,2], '-k')\n",
    "#plt.plot([0,1000],[1,1], '-k')\n",
    "plt.xlim(0,50)\n",
    "plt.ylim(1.6,2.4)\n",
    "plt.ylabel('E')\n",
    "plt.xlabel('kth iteration')\n",
    "plt.show()"
   ]
  },
  {
   "cell_type": "code",
   "execution_count": null,
   "metadata": {},
   "outputs": [],
   "source": []
  }
 ],
 "metadata": {
  "kernelspec": {
   "display_name": "Python 3",
   "language": "python",
   "name": "python3"
  },
  "language_info": {
   "codemirror_mode": {
    "name": "ipython",
    "version": 3
   },
   "file_extension": ".py",
   "mimetype": "text/x-python",
   "name": "python",
   "nbconvert_exporter": "python",
   "pygments_lexer": "ipython3",
   "version": "3.8.5"
  }
 },
 "nbformat": 4,
 "nbformat_minor": 5
}

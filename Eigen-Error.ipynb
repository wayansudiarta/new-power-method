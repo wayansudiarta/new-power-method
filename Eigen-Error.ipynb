{
 "cells": [
  {
   "cell_type": "markdown",
   "metadata": {},
   "source": [
    "# Computation of eigen Investigate Error\n",
    "\n",
    "I Wayan Sudiarta, Ph.D.\n",
    "\n",
    "6 February 2022\n",
    "\n",
    "Reference:\n",
    "1. https://numpy.org/doc/stable/reference/generated/numpy.matrix.html\n"
   ]
  },
  {
   "cell_type": "code",
   "execution_count": 1,
   "metadata": {},
   "outputs": [],
   "source": [
    "%matplotlib inline\n",
    "import matplotlib.pyplot as plt\n",
    "import numpy as np\n",
    "from numpy import linalg as la"
   ]
  },
  {
   "cell_type": "code",
   "execution_count": 2,
   "metadata": {},
   "outputs": [
    {
     "name": "stdout",
     "output_type": "stream",
     "text": [
      "[[2 0 0]\n",
      " [0 2 1]\n",
      " [0 1 2]]\n"
     ]
    }
   ],
   "source": [
    "# matrix H\n",
    "H = np.matrix([[2, 0, 0],[0, 2, 1], [0, 1, 2]])\n",
    "print(H)"
   ]
  },
  {
   "cell_type": "code",
   "execution_count": 3,
   "metadata": {},
   "outputs": [],
   "source": [
    "I = np.eye(3)"
   ]
  },
  {
   "cell_type": "code",
   "execution_count": 18,
   "metadata": {},
   "outputs": [
    {
     "name": "stdout",
     "output_type": "stream",
     "text": [
      "[[0.7], [0.8], [0.4]]\n"
     ]
    }
   ],
   "source": [
    "# different M\n",
    "# phi = np.random.rand(3,1)\n",
    "phi0 = [[0.7], [0.8], [0.4]]\n",
    "print(phi0)\n",
    "phi = phi0/la.norm(phi0)\n",
    "en0 = np.transpose(phi)@H@phi\n",
    "\n",
    "nt =1000\n",
    "E = 1.6\n",
    "\n",
    "result = []\n",
    "\n",
    "n  = 2\n",
    "G = I - (1.0/(E*n))*H\n",
    "HG = H@G@G\n",
    "phi = phi0\n",
    "res1 = [[0, en0]]\n",
    "for i in range(nt):\n",
    "    psi = HG@phi\n",
    "    phi = psi/la.norm(psi)\n",
    "en = np.transpose(phi)@H@phi\n",
    "#    res1.append([i, en.item()])\n",
    "result.append([n, en])\n",
    "\n",
    "n  = 4\n",
    "G = I - (1.0/(E*n))*H\n",
    "HG = H@G@G@G@G\n",
    "phi = phi0\n",
    "res2 = [[0, en0]]\n",
    "for i in range(nt):\n",
    "    psi = HG@phi\n",
    "    phi = psi/la.norm(psi)\n",
    "en = np.transpose(phi)@H@phi\n",
    "#    res1.append([i, en.item()])\n",
    "result.append([n, en])\n",
    "    \n",
    "n  = 6\n",
    "G = I - (1.0/(E*n))*H\n",
    "HG = H@G@G@G@G@G@G\n",
    "phi = phi0\n",
    "res3 = [[0, en0]]\n",
    "for i in range(nt):\n",
    "    psi = HG@phi\n",
    "    phi = psi/la.norm(psi)\n",
    "en = np.transpose(phi)@H@phi\n",
    "#    res1.append([i, en.item()])\n",
    "result.append([n, en])\n",
    "\n",
    "n  = 8\n",
    "G = I - (1.0/(E*n))*H\n",
    "HG = H@G@G@G@G@G@G@G@G\n",
    "phi = phi0\n",
    "res4 = [[0, en0]]\n",
    "for i in range(nt):\n",
    "    psi = HG@phi\n",
    "    phi = psi/la.norm(psi)\n",
    "en = np.transpose(phi)@H@phi\n",
    "#    res1.append([i, en.item()])\n",
    "result.append([n, en])\n",
    "\n",
    "n  = 9\n",
    "G = I - (1.0/(E*n))*H\n",
    "HG = H@G@G@G@G@G@G@G@G@G\n",
    "phi = phi0\n",
    "res4 = [[0, en0]]\n",
    "for i in range(nt):\n",
    "    psi = HG@phi\n",
    "    phi = psi/la.norm(psi)\n",
    "en = np.transpose(phi)@H@phi\n",
    "#    res1.append([i, en.item()])\n",
    "result.append([n, en])\n",
    "\n",
    "n  = 10\n",
    "G = I - (1.0/(E*n))*H\n",
    "HG = H@G@G@G@G@G@G@G@G@G@G\n",
    "phi = phi0\n",
    "res4 = [[0, en0]]\n",
    "for i in range(nt):\n",
    "    psi = HG@phi\n",
    "    phi = psi/la.norm(psi)\n",
    "en = np.transpose(phi)@H@phi\n",
    "#    res1.append([i, en.item()])\n",
    "result.append([n, en])\n",
    "\n",
    "n  = 12\n",
    "G = I - (1.0/(E*n))*H\n",
    "G10 = G@G@G@G@G@G@G@G@G@G\n",
    "GH = H@G10@G@G\n",
    "phi = phi0\n",
    "res4 = [[0, en0]]\n",
    "for i in range(nt):\n",
    "    psi = HG@phi\n",
    "    phi = psi/la.norm(psi)\n",
    "en = np.transpose(phi)@H@phi\n",
    "#    res1.append([i, en.item()])\n",
    "result.append([n, en])\n",
    "\n",
    "n  = 14\n",
    "G = I - (1.0/(E*n))*H\n",
    "G10 = G@G@G@G@G@G@G@G@G@G\n",
    "GH = H@G10@G@G@G@G\n",
    "phi = phi0\n",
    "res4 = [[0, en0]]\n",
    "for i in range(nt):\n",
    "    psi = HG@phi\n",
    "    phi = psi/la.norm(psi)\n",
    "en = np.transpose(phi)@H@phi\n",
    "#    res1.append([i, en.item()])\n",
    "result.append([n, en])\n",
    "\n",
    "n  = 16\n",
    "G = I - (1.0/(E*n))*H\n",
    "G10 = G@G@G@G@G@G@G@G@G@G\n",
    "GH = H@G10@G@G@G@G@G@G\n",
    "phi = phi0\n",
    "res4 = [[0, en0]]\n",
    "for i in range(nt):\n",
    "    psi = HG@phi\n",
    "    phi = psi/la.norm(psi)\n",
    "en = np.transpose(phi)@H@phi\n",
    "#    res1.append([i, en.item()])\n",
    "result.append([n, en])\n",
    "\n",
    "np.savetxt('data_result_m.csv', result, delimiter=',')"
   ]
  },
  {
   "cell_type": "code",
   "execution_count": 19,
   "metadata": {},
   "outputs": [
    {
     "data": {
      "image/png": "[encoded data removed]",
      "text/plain": [
       "<Figure size 432x288 with 1 Axes>"
      ]
     },
     "metadata": {
      "needs_background": "light"
     },
     "output_type": "display_data"
    }
   ],
   "source": [
    "data = np.array(result)\n",
    "x = data[:,0]\n",
    "y = data[:,1]\n",
    "\n",
    "plt.plot(x,y, '-o')\n",
    "plt.xlim(0,20)\n",
    "plt.ylim(0,3)\n",
    "plt.ylabel('E')\n",
    "plt.xlabel('M')\n",
    "plt.show()"
   ]
  },
  {
   "cell_type": "code",
   "execution_count": null,
   "metadata": {},
   "outputs": [],
   "source": []
  }
 ],
 "metadata": {
  "kernelspec": {
   "display_name": "Python 3",
   "language": "python",
   "name": "python3"
  },
  "language_info": {
   "codemirror_mode": {
    "name": "ipython",
    "version": 3
   },
   "file_extension": ".py",
   "mimetype": "text/x-python",
   "name": "python",
   "nbconvert_exporter": "python",
   "pygments_lexer": "ipython3",
   "version": "3.8.5"
  }
 },
 "nbformat": 4,
 "nbformat_minor": 5
}
